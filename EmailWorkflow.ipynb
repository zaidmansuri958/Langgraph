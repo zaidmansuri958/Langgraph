{
 "cells": [
  {
   "cell_type": "code",
   "execution_count": 14,
   "id": "896208ff",
   "metadata": {},
   "outputs": [
    {
     "name": "stderr",
     "output_type": "stream",
     "text": [
      "c:\\Users\\ZAID\\AppData\\Local\\Programs\\Python\\Python313\\Lib\\site-packages\\tqdm\\auto.py:21: TqdmWarning: IProgress not found. Please update jupyter and ipywidgets. See https://ipywidgets.readthedocs.io/en/stable/user_install.html\n",
      "  from .autonotebook import tqdm as notebook_tqdm\n"
     ]
    }
   ],
   "source": [
    "import os\n",
    "from typing import TypedDict,List,Dict,Any,Optional\n",
    "from langgraph.graph import StateGraph,START,END\n",
    "from langchain_openai import ChatOpenAI\n",
    "from langchain_core.messages import HumanMessage\n",
    "import google.generativeai as genai\n",
    "import os\n"
   ]
  },
  {
   "cell_type": "code",
   "execution_count": 34,
   "id": "a2ac2e84",
   "metadata": {},
   "outputs": [],
   "source": [
    "API_KEY=os.environ[\"API_KEY\"]"
   ]
  },
  {
   "cell_type": "code",
   "execution_count": 15,
   "id": "52141944",
   "metadata": {},
   "outputs": [],
   "source": [
    "genai.configure(api_key=API_KEY)\n",
    "\n",
    "model = genai.GenerativeModel(\"gemini-2.5-flash\")  # or \"gemini-pro\""
   ]
  },
  {
   "cell_type": "code",
   "execution_count": 4,
   "id": "717d8314",
   "metadata": {},
   "outputs": [],
   "source": [
    "class EmailState(TypedDict):\n",
    "    email:Dict[str,Any]\n",
    "    is_spam:Optional[bool]\n",
    "    spam_reason:Optional[str]\n",
    "    email_category: Optional[str]\n",
    "    email_draft:Optional[str]\n",
    "    message:List[Dict[str,Any]]"
   ]
  },
  {
   "cell_type": "code",
   "execution_count": 23,
   "id": "ab86f65c",
   "metadata": {},
   "outputs": [],
   "source": [
    "def read_email(state:EmailState):\n",
    "    email=state['email']\n",
    "    print(f\"An AI Agent is processing an email from {email['sender']} with subject {email['subject']}\")\n",
    "    return {}\n",
    "\n",
    "def classify_email(state:EmailState):\n",
    "    email=state['email']\n",
    "    prompt =f\"\"\"\n",
    "    As a professional email reader, analyze this email and determine if it is spam or legitimate and should be brought to Zaid's attention.\n",
    "\n",
    "    Email:\n",
    "    From : {email['sender']}\n",
    "    Subject : {email['subject']}\n",
    "    Body : {email['body']}\n",
    "\n",
    "    First determine if this email is spam.\n",
    "    answer with SPAM or HAM if it's legitimate. Only return answer\n",
    "    Answer : \n",
    "\"\"\"\n",
    "    \n",
    "    response=model.generate_content(prompt)\n",
    "\n",
    "    response_text=response.text.lower().strip()\n",
    "    print(response_text)\n",
    "\n",
    "    is_spam=\"spam\" in response_text and \"ham\" not in response_text\n",
    "\n",
    "    if not is_spam:\n",
    "        new_message=state.get(\"message\",[])+[{\"role\":\"user\",\"content\":prompt},{\"role\":\"assistant\",\"content\":response.text}]\n",
    "    else:\n",
    "        new_message=state.get(\"message\",[])\n",
    "\n",
    "    return {\n",
    "        \"is_spam\":is_spam,\n",
    "        \"message\":new_message\n",
    "    }\n",
    "\n",
    "def handle_spam(state:EmailState):\n",
    "    print(\"Model has marked email as spam\")\n",
    "    print(\"The mail has been moved to the spam folder\")\n",
    "    return {}\n",
    "\n",
    "\n",
    "def drafting_response(state:EmailState):\n",
    "    email=state[\"email\"]\n",
    "\n",
    "    prompt=f\"\"\"\n",
    "\n",
    "    As an AI agent, draft a polite preliminary response to this email.\n",
    "\n",
    "    Email:\n",
    "    From: {email['sender']}\n",
    "    Subject: {email['subject']}\n",
    "    Body: {email['body']}\n",
    "\n",
    "    Draft a brief professional response that zaid can review and personalize before sending\n",
    "    \"\"\"\n",
    "\n",
    "    response=model.generate_content(prompt)\n",
    "\n",
    "    new_message=state.get(\"message\",[])+[{\"role\":\"user\",\"content\":prompt},{\"role\":\"assistant\",\"content\":response.text}]\n",
    "\n",
    "    return{\n",
    "        \"email_draft\":response.text,\n",
    "        \"message\":new_message\n",
    "    }\n",
    "\n",
    "def notify_zaid(state:EmailState):\n",
    "    email=state['email']\n",
    "\n",
    "    print(\"\\n\"+\"=\"*50)\n",
    "    print(f\"Hello, I am you AI agent and you have received an email from {email['sender']}\")\n",
    "    print(f\"subject : {email['subject']}\")\n",
    "    print(\"-\"*50)\n",
    "    print(state['email_draft'])\n",
    "    print(\"=\"*50 + \"\\n\")\n",
    "\n",
    "    return {}\n",
    "\n"
   ]
  },
  {
   "cell_type": "code",
   "execution_count": 6,
   "id": "59624dce",
   "metadata": {},
   "outputs": [],
   "source": [
    "# defining the routing logic \n",
    "\n",
    "def route_email(state:EmailState):\n",
    "    if state[\"is_spam\"]:\n",
    "        return \"spam\"\n",
    "    else:\n",
    "        return \"legitimate\""
   ]
  },
  {
   "cell_type": "code",
   "execution_count": 25,
   "id": "4ddf14a1",
   "metadata": {},
   "outputs": [],
   "source": [
    "# create the graph\n",
    "\n",
    "email_graph=StateGraph(EmailState)"
   ]
  },
  {
   "cell_type": "code",
   "execution_count": 26,
   "id": "db8b3d09",
   "metadata": {},
   "outputs": [
    {
     "data": {
      "text/plain": [
       "<langgraph.graph.state.StateGraph at 0x16f4e2c4550>"
      ]
     },
     "execution_count": 26,
     "metadata": {},
     "output_type": "execute_result"
    }
   ],
   "source": [
    "# Add Nodes \n",
    "\n",
    "email_graph.add_node(\"read_email\",read_email)\n",
    "email_graph.add_node(\"classify_email\",classify_email)\n",
    "email_graph.add_node(\"handle_spam\",handle_spam)\n",
    "email_graph.add_node(\"drafting_response\",drafting_response)\n",
    "email_graph.add_node(\"notify_zaid\",notify_zaid)"
   ]
  },
  {
   "cell_type": "code",
   "execution_count": 27,
   "id": "5e9a52bf",
   "metadata": {},
   "outputs": [
    {
     "data": {
      "text/plain": [
       "<langgraph.graph.state.StateGraph at 0x16f4e2c4550>"
      ]
     },
     "execution_count": 27,
     "metadata": {},
     "output_type": "execute_result"
    }
   ],
   "source": [
    "email_graph.add_edge(START,\"read_email\")\n",
    "email_graph.add_edge(\"read_email\",\"classify_email\")\n",
    "\n",
    "# add conditional edge\n",
    "email_graph.add_conditional_edges(\n",
    "    \"classify_email\",\n",
    "    route_email,\n",
    "    {\n",
    "        \"spam\":\"handle_spam\",\n",
    "        \"legitimate\":\"drafting_response\"\n",
    "    }\n",
    ")\n",
    "\n",
    "email_graph.add_edge(\"handle_spam\",END)\n",
    "email_graph.add_edge(\"drafting_response\",\"notify_zaid\")\n",
    "email_graph.add_edge(\"notify_zaid\",END)"
   ]
  },
  {
   "cell_type": "code",
   "execution_count": 28,
   "id": "4960cbbd",
   "metadata": {},
   "outputs": [],
   "source": [
    "compiled_graph=email_graph.compile()"
   ]
  },
  {
   "cell_type": "code",
   "execution_count": 29,
   "id": "78f9e8ce",
   "metadata": {},
   "outputs": [
    {
     "data": {
      "image/png": "[encoded data removed]",
      "text/plain": [
       "<IPython.core.display.Image object>"
      ]
     },
     "metadata": {},
     "output_type": "display_data"
    }
   ],
   "source": [
    "from IPython.display import Image, display\n",
    "display(Image(compiled_graph.get_graph().draw_mermaid_png()))"
   ]
  },
  {
   "cell_type": "code",
   "execution_count": 31,
   "id": "d962f9b5",
   "metadata": {},
   "outputs": [
    {
     "name": "stdout",
     "output_type": "stream",
     "text": [
      "\n",
      "Processing legitimate email...\n",
      "An AI Agent is processing an email from John Doe - University of Toronto with subject Regarding Research Collaboration on AI Ethics\n",
      "ham\n",
      "\n",
      "==================================================\n",
      "Hello, I am you AI agent and you have received an email from John Doe - University of Toronto\n",
      "subject : Regarding Research Collaboration on AI Ethics\n",
      "--------------------------------------------------\n",
      "Subject: Re: Regarding Research Collaboration on AI Ethics\n",
      "\n",
      "Dear John,\n",
      "\n",
      "Thank you for your email and for your kind words regarding my recent publication on responsible AI. I truly appreciate you reaching out and following my work.\n",
      "\n",
      "I'm certainly interested in learning more about your research project on AI governance, as I agree there appears to be a strong overlap with my work in AI ethics. I believe there's significant potential for a fruitful discussion.\n",
      "\n",
      "I'd be happy to explore potential collaboration opportunities with you. To help me prepare and ensure we make the most of a potential call, would you be able to share a brief overview of your project or any specific areas you envision for collaboration?\n",
      "\n",
      "Once I have that, I can check my schedule for next week (or the following week, if that works better for you) and propose some times for a brief call.\n",
      "\n",
      "Best regards,\n",
      "\n",
      "Zaid\n",
      "[Your Title]\n",
      "[Microsoft]\n",
      "==================================================\n",
      "\n",
      "\n",
      "Processing spam email...\n",
      "An AI Agent is processing an email from Crypto bro with subject The best investment of 2025\n",
      "spam\n",
      "Model has marked email as spam\n",
      "The mail has been moved to the spam folder\n"
     ]
    }
   ],
   "source": [
    "legitimate_email = {\n",
    "    \"sender\": \"John Doe - University of Toronto\",\n",
    "    \"subject\": \"Regarding Research Collaboration on AI Ethics\",\n",
    "    \"body\": (\n",
    "        \"Dear Zaid,\\n\\n\"\n",
    "        \"I have been following your work at Microsoft and was impressed by your recent publication \"\n",
    "        \"on responsible AI. I am currently coordinating a research project on AI governance, and \"\n",
    "        \"I believe there is a strong overlap in our interests. Would you be open to a quick call \"\n",
    "        \"next week to explore possible collaboration opportunities?\\n\\n\"\n",
    "        \"Best regards,\\n\"\n",
    "        \"John Doe\\n\"\n",
    "        \"Assistant Professor, University of Toronto\"\n",
    "    )\n",
    "}\n",
    "\n",
    "\n",
    "spam_email = {\n",
    "    \"sender\": \"Crypto bro\",\n",
    "    \"subject\": \"The best investment of 2025\",\n",
    "    \"body\": \"Mr Wayne, I just launched an ALT coin and want you to buy some !\"\n",
    "}\n",
    "# Process legitimate email\n",
    "print(\"\\nProcessing legitimate email...\")\n",
    "legitimate_result = compiled_graph.invoke({\n",
    "    \"email\": legitimate_email,\n",
    "    \"is_spam\": None,\n",
    "    \"spam_reason\": None,\n",
    "    \"email_category\": None,\n",
    "    \"email_draft\": None,\n",
    "    \"messages\": []\n",
    "})\n",
    "\n",
    "# Process spam email\n",
    "print(\"\\nProcessing spam email...\")\n",
    "spam_result = compiled_graph.invoke({\n",
    "    \"email\": spam_email,\n",
    "    \"is_spam\": None,\n",
    "    \"spam_reason\": None,\n",
    "    \"email_category\": None,\n",
    "    \"email_draft\": None,\n",
    "    \"messages\": []})\n"
   ]
  }
 ],
 "metadata": {
  "kernelspec": {
   "display_name": "Python 3",
   "language": "python",
   "name": "python3"
  },
  "language_info": {
   "codemirror_mode": {
    "name": "ipython",
    "version": 3
   },
   "file_extension": ".py",
   "mimetype": "text/x-python",
   "name": "python",
   "nbconvert_exporter": "python",
   "pygments_lexer": "ipython3",
   "version": "3.13.3"
  }
 },
 "nbformat": 4,
 "nbformat_minor": 5
}
