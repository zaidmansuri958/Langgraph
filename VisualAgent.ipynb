{
 "cells": [
  {
   "cell_type": "code",
   "execution_count": 7,
   "id": "5af887bd",
   "metadata": {},
   "outputs": [
    {
     "name": "stderr",
     "output_type": "stream",
     "text": [
      "c:\\Users\\ZAID\\AppData\\Local\\Programs\\Python\\Python313\\Lib\\site-packages\\tqdm\\auto.py:21: TqdmWarning: IProgress not found. Please update jupyter and ipywidgets. See https://ipywidgets.readthedocs.io/en/stable/user_install.html\n",
      "  from .autonotebook import tqdm as notebook_tqdm\n"
     ]
    }
   ],
   "source": [
    "import os \n",
    "import base64\n",
    "import google.generativeai as genai\n",
    "from PIL import Image"
   ]
  },
  {
   "cell_type": "code",
   "execution_count": null,
   "id": "81b8ab21",
   "metadata": {},
   "outputs": [],
   "source": [
    "os.environ[\"SENDGRID_API_KEY\"]=''"
   ]
  },
  {
   "cell_type": "code",
   "execution_count": 8,
   "id": "d133d50f",
   "metadata": {},
   "outputs": [],
   "source": [
    "API_KEY=os.environ[\"API_KEY\"]\n",
    "genai.configure(api_key=API_KEY)"
   ]
  },
  {
   "cell_type": "code",
   "execution_count": 19,
   "id": "39460443",
   "metadata": {},
   "outputs": [],
   "source": [
    "model = genai.GenerativeModel(\"gemini-2.5-flash\")\n",
    "\n",
    "def extract_text(img_path):\n",
    "    try:\n",
    "        # Load image as a PIL object (what Gemini expects)\n",
    "        image = Image.open(img_path)\n",
    "\n",
    "        prompt = \"Extract all text from this image. Return only extracted text without explanation.\"\n",
    "\n",
    "        # Send image and prompt to Gemini\n",
    "        response = model.generate_content([image, prompt])\n",
    "\n",
    "        return response.text.strip()\n",
    "\n",
    "    except Exception as e:\n",
    "        print(f\"Error extracting text: {e}\")\n",
    "        return \"\"\n",
    "    \n",
    "def divide(a:int,b:int):\n",
    "    return a/b"
   ]
  },
  {
   "cell_type": "code",
   "execution_count": 18,
   "id": "d68f4904",
   "metadata": {},
   "outputs": [
    {
     "data": {
      "text/plain": [
       "\"TRAINING SCHEDULE\\nFor the week of 2/20-2/26\\n\\nSUNDAY 2/20\\nMORNING\\n30 minute jog\\n30 minute meditation\\n\\nEVENING\\nclean and jerk lifts — 3 reps/8 sets. 262 lbs.\\n5 sets metabolic conditioning:\\n¼ mile run\\n21 kettlebell swings\\n12 pull-ups\\n30 minutes flexibility\\n30 minutes sparring\\n\\nMONDAY 2/21\\nMORNING\\n30 minute jog\\n30 minutes traditional kata (focus on Japanese forms)\\n\\nEVENING\\n5 sets 20 foot rope climb\\n30 minutes gymnastic rings (work on muscle ups in\\nparticular)\\nhigh box jumps—12 reps/8 sets\\ncrunches—50 reps/5 sets\\n30 minutes heavy bag\\n30 minutes flexibility\\n30 minutes target practice\\n\\nTUESDAY 2/22\\nMORNING\\n30 minute jog\\n30 minutes yoga\\n\\nEVENING\\n½ mile swim\\nheavy dead lift—5 reps/7 sets. 620 lbs.\\nlighter dead lift—30 reps. 310 lbs.\\n30 minutes sparring\\n\\nWEDNESDAY 2/23\\nOFF DAY\\nMORNING\\n20-mile run—last week's time was 4:50 per mile.\\nNeed to better that time by a half a minute.\\n\\nEVENING\\nskill training only\\n30 minutes target practice\\n30 minutes flexibility\\n30 minutes upper body basics\\n30 minutes lower body basics\\n30 minutes observation\\n30 minutes meditation\\n30 minutes holds and pressure points\\n\\nTHURSDAY 2/24\\nMORNING\\n30 minute jog\\n30 minutes traditional kata\\n(focus on Okinawan forms)\\n\\nEVENING\\nsquats—5 reps/10 sets. 525 lbs.\\n1 hour bouldering\\n30 minutes flexibility\\ncrunches—50 reps/5 sets\\n30 minutes target practice\\n30 minutes heavy bag\\n\\nFRIDAY 2/25\\nMORNING\\n30 minute jog\\n30 minute meditation\\n\\nEVENING\\nclean and jerk lifts—3 reps/8 sets. 262 lbs.\\n5 sets metabolic conditioning:\\n¼ mile run\\n21 kettlebell swings\\n12 pull-ups\\n30 minutes flexibility\\n30 minutes sparring\\n\\nSATURDAY 2/26\\nMORNING\\n30 minute jog\\n30 minutes yoga\\n\\nEVENING\\ncrunches—50 reps/5 sets\\nsquats—5 reps/10 sets. 525 lbs.\\npush-ups—50 reps/5sets\\n30 minutes monkey bars\\n30 minute pommel horse\\n30 minutes heavy bag\\n¼ mile swim\\n\\nIn an effort to inspire the all-\\nimportant Dark Knight to take\\ntime out of his busy schedule and\\nactually consume a reasonable\\namount of sustenance, I have taken\\nthe liberty of composing a menu\\nfor today's scheduled meals. It is\\nmy high hope that these elegantly\\nprepared courses will not share the\\nfate of their predecessors: resting cold\\nand untouched on a computer console.\\n- A\\n\\nWAYNE MANOR\\n\\nWednesday's Menu\\n\\nBreakfast\\n\\nsix poached eggs laid over artichoke bottoms with a sage pesto sauce\\nthinly sliced baked ham\\nmixed organic fresh fruit bowl\\nfreshly squeezed orange juice\\norganic, grass-fed milk\\n4 grams branched-chain amino acid\\n2 grams fish oil\\n\\nLunch\\n\\nlocal salmon with a ginger glaze\\norganic asparagus with lemon garlic dusting\\nAsian yam soup with diced onions\\n2 grams fish oil\\n\\nDinner\\n\\ngrass-fed local sirloin steak\\nbed of organic spinach and piquillo peppers\\noven-baked golden herb potato\\n2 grams fish oil\""
      ]
     },
     "execution_count": 18,
     "metadata": {},
     "output_type": "execute_result"
    }
   ],
   "source": [
    "extract_text(\"./Batman_training_and_meals.png\")"
   ]
  },
  {
   "cell_type": "code",
   "execution_count": 20,
   "id": "bc278b3f",
   "metadata": {},
   "outputs": [],
   "source": [
    "from sendgrid import SendGridAPIClient\n",
    "from sendgrid.helpers.mail import Mail\n",
    "\n",
    "def send_html_email(html_body,sender=\"firozam196@gmail.com\",receiver=\"zmansuri521@gmail.com\",subject=\"Dinner shopping list\"):\n",
    "    message=Mail(\n",
    "        from_email=sender,\n",
    "        to_emails=receiver,\n",
    "        subject=subject,\n",
    "        html_content=html_body\n",
    "    )\n",
    "\n",
    "    try:\n",
    "        sg=SendGridAPIClient(os.environ[\"SENDGRID_API\"])\n",
    "        resp=sg.send(message)\n",
    "        return f\"Sendgrid response {resp.status_code}\"\n",
    "    except Exception as e:\n",
    "        return f\"Sendgrid Error {e}\""
   ]
  },
  {
   "cell_type": "code",
   "execution_count": 21,
   "id": "8841889c",
   "metadata": {},
   "outputs": [
    {
     "name": "stdout",
     "output_type": "stream",
     "text": [
      "{\"tool\": \"divide\", \"args\": {\"a\": 10, \"b\": 2}}\n"
     ]
    }
   ],
   "source": [
    "prompt = \"\"\"\n",
    "You have access to the following tools:\n",
    "\n",
    "1. divide(a, b): returns a / b\n",
    "2. extract_text(image_path): extracts text from image\n",
    "3. send_html_email(to, subject, html): sends email\n",
    "\n",
    "When you want to use a tool, reply with a JSON in this format:\n",
    "{\"tool\": \"tool_name\", \"args\": {...}}\n",
    "\n",
    "Now, the user says: Divide 10 by 2.\n",
    "\"\"\"\n",
    "\n",
    "response = model.generate_content(prompt)\n",
    "print(response.text)\n"
   ]
  }
 ],
 "metadata": {
  "kernelspec": {
   "display_name": "Python 3",
   "language": "python",
   "name": "python3"
  },
  "language_info": {
   "codemirror_mode": {
    "name": "ipython",
    "version": 3
   },
   "file_extension": ".py",
   "mimetype": "text/x-python",
   "name": "python",
   "nbconvert_exporter": "python",
   "pygments_lexer": "ipython3",
   "version": "3.13.3"
  }
 },
 "nbformat": 4,
 "nbformat_minor": 5
}
